{
 "cells": [
  {
   "cell_type": "code",
   "execution_count": 14,
   "id": "525e1d26",
   "metadata": {},
   "outputs": [],
   "source": [
    "import tensorflow as tf\n",
    "import pandas as pd\n",
    "import numpy as np\n",
    "from sklearn.preprocessing import StandardScaler\n",
    "import tensorflow.keras as k\n",
    "from sklearn.model_selection import train_test_split\n",
    "from matplotlib import pyplot as plt\n",
    "import time"
   ]
  },
  {
   "cell_type": "markdown",
   "id": "76ea53ac",
   "metadata": {},
   "source": [
    "# Reading the dataset"
   ]
  },
  {
   "cell_type": "code",
   "execution_count": 15,
   "id": "3dd5c2c1",
   "metadata": {},
   "outputs": [],
   "source": [
    "df = pd.read_csv('train.csv')"
   ]
  },
  {
   "cell_type": "code",
   "execution_count": 16,
   "id": "6eb28a2f",
   "metadata": {},
   "outputs": [
    {
     "data": {
      "text/html": [
       "<div>\n",
       "<style scoped>\n",
       "    .dataframe tbody tr th:only-of-type {\n",
       "        vertical-align: middle;\n",
       "    }\n",
       "\n",
       "    .dataframe tbody tr th {\n",
       "        vertical-align: top;\n",
       "    }\n",
       "\n",
       "    .dataframe thead th {\n",
       "        text-align: right;\n",
       "    }\n",
       "</style>\n",
       "<table border=\"1\" class=\"dataframe\">\n",
       "  <thead>\n",
       "    <tr style=\"text-align: right;\">\n",
       "      <th></th>\n",
       "      <th>MEAN_RR</th>\n",
       "      <th>MEDIAN_RR</th>\n",
       "      <th>SDRR</th>\n",
       "      <th>RMSSD</th>\n",
       "      <th>SDSD</th>\n",
       "      <th>SDRR_RMSSD</th>\n",
       "      <th>HR</th>\n",
       "      <th>pNN25</th>\n",
       "      <th>pNN50</th>\n",
       "      <th>SD1</th>\n",
       "      <th>...</th>\n",
       "      <th>HF</th>\n",
       "      <th>HF_PCT</th>\n",
       "      <th>HF_NU</th>\n",
       "      <th>TP</th>\n",
       "      <th>LF_HF</th>\n",
       "      <th>HF_LF</th>\n",
       "      <th>sampen</th>\n",
       "      <th>higuci</th>\n",
       "      <th>datasetId</th>\n",
       "      <th>condition</th>\n",
       "    </tr>\n",
       "  </thead>\n",
       "  <tbody>\n",
       "    <tr>\n",
       "      <th>0</th>\n",
       "      <td>885.157845</td>\n",
       "      <td>853.763730</td>\n",
       "      <td>140.972741</td>\n",
       "      <td>15.554505</td>\n",
       "      <td>15.553371</td>\n",
       "      <td>9.063146</td>\n",
       "      <td>69.499952</td>\n",
       "      <td>11.133333</td>\n",
       "      <td>0.533333</td>\n",
       "      <td>11.001565</td>\n",
       "      <td>...</td>\n",
       "      <td>15.522602</td>\n",
       "      <td>0.421047</td>\n",
       "      <td>1.514737</td>\n",
       "      <td>3686.666157</td>\n",
       "      <td>65.018055</td>\n",
       "      <td>0.015380</td>\n",
       "      <td>2.139754</td>\n",
       "      <td>1.163485</td>\n",
       "      <td>2</td>\n",
       "      <td>0</td>\n",
       "    </tr>\n",
       "    <tr>\n",
       "      <th>1</th>\n",
       "      <td>939.425371</td>\n",
       "      <td>948.357865</td>\n",
       "      <td>81.317742</td>\n",
       "      <td>12.964439</td>\n",
       "      <td>12.964195</td>\n",
       "      <td>6.272369</td>\n",
       "      <td>64.363150</td>\n",
       "      <td>5.600000</td>\n",
       "      <td>0.000000</td>\n",
       "      <td>9.170129</td>\n",
       "      <td>...</td>\n",
       "      <td>2.108525</td>\n",
       "      <td>0.070133</td>\n",
       "      <td>0.304603</td>\n",
       "      <td>3006.487251</td>\n",
       "      <td>327.296635</td>\n",
       "      <td>0.003055</td>\n",
       "      <td>2.174499</td>\n",
       "      <td>1.084711</td>\n",
       "      <td>2</td>\n",
       "      <td>1</td>\n",
       "    </tr>\n",
       "    <tr>\n",
       "      <th>2</th>\n",
       "      <td>898.186047</td>\n",
       "      <td>907.006860</td>\n",
       "      <td>84.497236</td>\n",
       "      <td>16.305279</td>\n",
       "      <td>16.305274</td>\n",
       "      <td>5.182201</td>\n",
       "      <td>67.450066</td>\n",
       "      <td>13.066667</td>\n",
       "      <td>0.200000</td>\n",
       "      <td>11.533417</td>\n",
       "      <td>...</td>\n",
       "      <td>13.769729</td>\n",
       "      <td>0.512671</td>\n",
       "      <td>1.049528</td>\n",
       "      <td>2685.879461</td>\n",
       "      <td>94.280910</td>\n",
       "      <td>0.010607</td>\n",
       "      <td>2.135350</td>\n",
       "      <td>1.176315</td>\n",
       "      <td>2</td>\n",
       "      <td>1</td>\n",
       "    </tr>\n",
       "    <tr>\n",
       "      <th>3</th>\n",
       "      <td>881.757864</td>\n",
       "      <td>893.460030</td>\n",
       "      <td>90.370537</td>\n",
       "      <td>15.720468</td>\n",
       "      <td>15.720068</td>\n",
       "      <td>5.748591</td>\n",
       "      <td>68.809562</td>\n",
       "      <td>11.800000</td>\n",
       "      <td>0.133333</td>\n",
       "      <td>11.119476</td>\n",
       "      <td>...</td>\n",
       "      <td>18.181913</td>\n",
       "      <td>0.529387</td>\n",
       "      <td>1.775294</td>\n",
       "      <td>3434.520980</td>\n",
       "      <td>55.328701</td>\n",
       "      <td>0.018074</td>\n",
       "      <td>2.178341</td>\n",
       "      <td>1.179688</td>\n",
       "      <td>2</td>\n",
       "      <td>0</td>\n",
       "    </tr>\n",
       "    <tr>\n",
       "      <th>4</th>\n",
       "      <td>809.625331</td>\n",
       "      <td>811.184865</td>\n",
       "      <td>62.766242</td>\n",
       "      <td>19.213819</td>\n",
       "      <td>19.213657</td>\n",
       "      <td>3.266724</td>\n",
       "      <td>74.565728</td>\n",
       "      <td>20.200000</td>\n",
       "      <td>0.200000</td>\n",
       "      <td>13.590641</td>\n",
       "      <td>...</td>\n",
       "      <td>48.215822</td>\n",
       "      <td>1.839473</td>\n",
       "      <td>3.279993</td>\n",
       "      <td>2621.175204</td>\n",
       "      <td>29.487873</td>\n",
       "      <td>0.033912</td>\n",
       "      <td>2.221121</td>\n",
       "      <td>1.249612</td>\n",
       "      <td>2</td>\n",
       "      <td>0</td>\n",
       "    </tr>\n",
       "  </tbody>\n",
       "</table>\n",
       "<p>5 rows × 36 columns</p>\n",
       "</div>"
      ],
      "text/plain": [
       "      MEAN_RR   MEDIAN_RR        SDRR      RMSSD       SDSD  SDRR_RMSSD   \n",
       "0  885.157845  853.763730  140.972741  15.554505  15.553371    9.063146  \\\n",
       "1  939.425371  948.357865   81.317742  12.964439  12.964195    6.272369   \n",
       "2  898.186047  907.006860   84.497236  16.305279  16.305274    5.182201   \n",
       "3  881.757864  893.460030   90.370537  15.720468  15.720068    5.748591   \n",
       "4  809.625331  811.184865   62.766242  19.213819  19.213657    3.266724   \n",
       "\n",
       "          HR      pNN25     pNN50        SD1  ...         HF    HF_PCT   \n",
       "0  69.499952  11.133333  0.533333  11.001565  ...  15.522602  0.421047  \\\n",
       "1  64.363150   5.600000  0.000000   9.170129  ...   2.108525  0.070133   \n",
       "2  67.450066  13.066667  0.200000  11.533417  ...  13.769729  0.512671   \n",
       "3  68.809562  11.800000  0.133333  11.119476  ...  18.181913  0.529387   \n",
       "4  74.565728  20.200000  0.200000  13.590641  ...  48.215822  1.839473   \n",
       "\n",
       "      HF_NU           TP       LF_HF     HF_LF    sampen    higuci  datasetId   \n",
       "0  1.514737  3686.666157   65.018055  0.015380  2.139754  1.163485          2  \\\n",
       "1  0.304603  3006.487251  327.296635  0.003055  2.174499  1.084711          2   \n",
       "2  1.049528  2685.879461   94.280910  0.010607  2.135350  1.176315          2   \n",
       "3  1.775294  3434.520980   55.328701  0.018074  2.178341  1.179688          2   \n",
       "4  3.279993  2621.175204   29.487873  0.033912  2.221121  1.249612          2   \n",
       "\n",
       "   condition  \n",
       "0          0  \n",
       "1          1  \n",
       "2          1  \n",
       "3          0  \n",
       "4          0  \n",
       "\n",
       "[5 rows x 36 columns]"
      ]
     },
     "execution_count": 16,
     "metadata": {},
     "output_type": "execute_result"
    }
   ],
   "source": [
    "df.head()"
   ]
  },
  {
   "cell_type": "code",
   "execution_count": 17,
   "id": "77c72ead",
   "metadata": {},
   "outputs": [],
   "source": [
    "label = ['condition']\n",
    "features = ['MEAN_RR','RMSSD','pNN25','pNN50','LF','HF','LF_HF']"
   ]
  },
  {
   "cell_type": "code",
   "execution_count": null,
   "id": "053e4122",
   "metadata": {},
   "outputs": [],
   "source": []
  },
  {
   "cell_type": "code",
   "execution_count": 18,
   "id": "0ade4e0f",
   "metadata": {},
   "outputs": [],
   "source": [
    "scaler = StandardScaler()\n",
    "scaler.fit(df[features])\n",
    "df[features] = scaler.transform(df[features])\n"
   ]
  },
  {
   "cell_type": "code",
   "execution_count": 19,
   "id": "3708b24d",
   "metadata": {},
   "outputs": [],
   "source": [
    "X = df[features].values\n",
    "y = df[label].values"
   ]
  },
  {
   "cell_type": "code",
   "execution_count": 20,
   "id": "9c3158a1",
   "metadata": {},
   "outputs": [],
   "source": [
    "X_train,X_test,y_train,y_test = train_test_split(X,y,test_size = 0.3,random_state = 40)"
   ]
  },
  {
   "cell_type": "code",
   "execution_count": 21,
   "id": "02a43286",
   "metadata": {},
   "outputs": [
    {
     "name": "stdout",
     "output_type": "stream",
     "text": [
      "(258502, 7) (258502, 1) (110787, 7) (110787, 1)\n"
     ]
    }
   ],
   "source": [
    "print(X_train.shape,y_train.shape,X_test.shape,y_test.shape)"
   ]
  },
  {
   "cell_type": "code",
   "execution_count": 22,
   "id": "fe89baaf",
   "metadata": {},
   "outputs": [],
   "source": [
    "y_train = k.utils.to_categorical(y_train)\n",
    "y_test = k.utils.to_categorical(y_test)"
   ]
  },
  {
   "cell_type": "markdown",
   "id": "31a27747",
   "metadata": {},
   "source": [
    "# Creating Model"
   ]
  },
  {
   "cell_type": "code",
   "execution_count": 23,
   "id": "b8b3fbee",
   "metadata": {},
   "outputs": [],
   "source": [
    "from tensorflow.keras import Sequential\n",
    "from tensorflow.keras.layers import Dense"
   ]
  },
  {
   "cell_type": "code",
   "execution_count": 24,
   "id": "213cbe34",
   "metadata": {},
   "outputs": [],
   "source": [
    "model = Sequential()\n",
    "model.add(Dense(50, activation='relu',kernel_initializer = 'he_normal',input_shape=(X_train.shape[1],)))\n",
    "model.add(Dense(20, activation='relu',kernel_initializer = 'he_normal'))\n",
    "model.add(Dense(10, activation='relu',kernel_initializer = 'he_normal'))\n",
    "model.add(Dense(3, activation='softmax'))"
   ]
  },
  {
   "cell_type": "code",
   "execution_count": 25,
   "id": "5c69da17",
   "metadata": {},
   "outputs": [],
   "source": [
    "model.compile(optimizer='adam', loss='categorical_crossentropy',metrics=['accuracy'])"
   ]
  },
  {
   "cell_type": "code",
   "execution_count": 26,
   "id": "070237ed",
   "metadata": {
    "scrolled": true
   },
   "outputs": [
    {
     "name": "stdout",
     "output_type": "stream",
     "text": [
      "Epoch 1/50\n",
      " 16/253 [>.............................] - ETA: 1s - loss: 1.1268 - accuracy: 0.4501"
     ]
    },
    {
     "name": "stderr",
     "output_type": "stream",
     "text": [
      "2023-04-24 13:31:42.000418: I tensorflow/core/grappler/optimizers/custom_graph_optimizer_registry.cc:112] Plugin optimizer for device_type GPU is enabled.\n"
     ]
    },
    {
     "name": "stdout",
     "output_type": "stream",
     "text": [
      "252/253 [============================>.] - ETA: 0s - loss: 0.8796 - accuracy: 0.6093"
     ]
    },
    {
     "name": "stderr",
     "output_type": "stream",
     "text": [
      "2023-04-24 13:31:43.821848: I tensorflow/core/grappler/optimizers/custom_graph_optimizer_registry.cc:112] Plugin optimizer for device_type GPU is enabled.\n"
     ]
    },
    {
     "name": "stdout",
     "output_type": "stream",
     "text": [
      "253/253 [==============================] - 2s 9ms/step - loss: 0.8795 - accuracy: 0.6094 - val_loss: 0.7631 - val_accuracy: 0.6685\n",
      "Epoch 2/50\n",
      "253/253 [==============================] - 2s 9ms/step - loss: 0.6850 - accuracy: 0.7022 - val_loss: 0.6209 - val_accuracy: 0.7324\n",
      "Epoch 3/50\n",
      "253/253 [==============================] - 2s 9ms/step - loss: 0.5588 - accuracy: 0.7556 - val_loss: 0.5046 - val_accuracy: 0.7873\n",
      "Epoch 4/50\n",
      "253/253 [==============================] - 2s 8ms/step - loss: 0.4639 - accuracy: 0.8119 - val_loss: 0.4360 - val_accuracy: 0.8283\n",
      "Epoch 5/50\n",
      "253/253 [==============================] - 2s 9ms/step - loss: 0.4122 - accuracy: 0.8368 - val_loss: 0.3975 - val_accuracy: 0.8411\n",
      "Epoch 6/50\n",
      "253/253 [==============================] - 2s 8ms/step - loss: 0.3792 - accuracy: 0.8497 - val_loss: 0.3708 - val_accuracy: 0.8540\n",
      "Epoch 7/50\n",
      "253/253 [==============================] - 2s 8ms/step - loss: 0.3538 - accuracy: 0.8633 - val_loss: 0.3487 - val_accuracy: 0.8684\n",
      "Epoch 8/50\n",
      "253/253 [==============================] - 2s 8ms/step - loss: 0.3341 - accuracy: 0.8727 - val_loss: 0.3299 - val_accuracy: 0.8745\n",
      "Epoch 9/50\n",
      "253/253 [==============================] - 2s 9ms/step - loss: 0.3174 - accuracy: 0.8801 - val_loss: 0.3199 - val_accuracy: 0.8786\n",
      "Epoch 10/50\n",
      "253/253 [==============================] - 2s 9ms/step - loss: 0.3021 - accuracy: 0.8854 - val_loss: 0.3028 - val_accuracy: 0.8848\n",
      "Epoch 11/50\n",
      "253/253 [==============================] - 2s 9ms/step - loss: 0.2890 - accuracy: 0.8897 - val_loss: 0.2851 - val_accuracy: 0.8904\n",
      "Epoch 12/50\n",
      "253/253 [==============================] - 2s 8ms/step - loss: 0.2747 - accuracy: 0.8953 - val_loss: 0.2756 - val_accuracy: 0.8928\n",
      "Epoch 13/50\n",
      "253/253 [==============================] - 2s 8ms/step - loss: 0.2625 - accuracy: 0.8995 - val_loss: 0.2638 - val_accuracy: 0.8957\n",
      "Epoch 14/50\n",
      "253/253 [==============================] - 2s 9ms/step - loss: 0.2527 - accuracy: 0.9037 - val_loss: 0.2485 - val_accuracy: 0.9055\n",
      "Epoch 15/50\n",
      "253/253 [==============================] - 2s 9ms/step - loss: 0.2430 - accuracy: 0.9078 - val_loss: 0.2410 - val_accuracy: 0.9075\n",
      "Epoch 16/50\n",
      "253/253 [==============================] - 2s 8ms/step - loss: 0.2343 - accuracy: 0.9116 - val_loss: 0.2342 - val_accuracy: 0.9124\n",
      "Epoch 17/50\n",
      "253/253 [==============================] - 2s 9ms/step - loss: 0.2260 - accuracy: 0.9151 - val_loss: 0.2250 - val_accuracy: 0.9160\n",
      "Epoch 18/50\n",
      "253/253 [==============================] - 2s 8ms/step - loss: 0.2186 - accuracy: 0.9186 - val_loss: 0.2226 - val_accuracy: 0.9162\n",
      "Epoch 19/50\n",
      "253/253 [==============================] - 2s 8ms/step - loss: 0.2117 - accuracy: 0.9215 - val_loss: 0.2105 - val_accuracy: 0.9202\n",
      "Epoch 20/50\n",
      "253/253 [==============================] - 2s 8ms/step - loss: 0.2048 - accuracy: 0.9241 - val_loss: 0.2054 - val_accuracy: 0.9220\n",
      "Epoch 21/50\n",
      "253/253 [==============================] - 2s 9ms/step - loss: 0.1987 - accuracy: 0.9264 - val_loss: 0.1974 - val_accuracy: 0.9269\n",
      "Epoch 22/50\n",
      "253/253 [==============================] - 2s 8ms/step - loss: 0.1927 - accuracy: 0.9295 - val_loss: 0.1931 - val_accuracy: 0.9282\n",
      "Epoch 23/50\n",
      "253/253 [==============================] - 2s 8ms/step - loss: 0.1872 - accuracy: 0.9315 - val_loss: 0.1859 - val_accuracy: 0.9316\n",
      "Epoch 24/50\n",
      "253/253 [==============================] - 2s 8ms/step - loss: 0.1818 - accuracy: 0.9339 - val_loss: 0.1842 - val_accuracy: 0.9324\n",
      "Epoch 25/50\n",
      "253/253 [==============================] - 2s 8ms/step - loss: 0.1774 - accuracy: 0.9354 - val_loss: 0.1786 - val_accuracy: 0.9353\n",
      "Epoch 26/50\n",
      "253/253 [==============================] - 2s 8ms/step - loss: 0.1732 - accuracy: 0.9370 - val_loss: 0.1716 - val_accuracy: 0.9394\n",
      "Epoch 27/50\n",
      "253/253 [==============================] - 2s 9ms/step - loss: 0.1675 - accuracy: 0.9393 - val_loss: 0.1715 - val_accuracy: 0.9373\n",
      "Epoch 28/50\n",
      "253/253 [==============================] - 2s 9ms/step - loss: 0.1645 - accuracy: 0.9402 - val_loss: 0.1668 - val_accuracy: 0.9391\n",
      "Epoch 29/50\n",
      "253/253 [==============================] - 2s 10ms/step - loss: 0.1613 - accuracy: 0.9413 - val_loss: 0.1618 - val_accuracy: 0.9393\n",
      "Epoch 30/50\n",
      "253/253 [==============================] - 2s 9ms/step - loss: 0.1589 - accuracy: 0.9420 - val_loss: 0.1590 - val_accuracy: 0.9419\n",
      "Epoch 31/50\n",
      "253/253 [==============================] - 2s 9ms/step - loss: 0.1552 - accuracy: 0.9432 - val_loss: 0.1550 - val_accuracy: 0.9426\n",
      "Epoch 32/50\n",
      "253/253 [==============================] - 2s 9ms/step - loss: 0.1521 - accuracy: 0.9446 - val_loss: 0.1529 - val_accuracy: 0.9432\n",
      "Epoch 33/50\n",
      "253/253 [==============================] - 2s 9ms/step - loss: 0.1492 - accuracy: 0.9454 - val_loss: 0.1494 - val_accuracy: 0.9443\n",
      "Epoch 34/50\n",
      "253/253 [==============================] - 2s 9ms/step - loss: 0.1459 - accuracy: 0.9467 - val_loss: 0.1540 - val_accuracy: 0.9431\n",
      "Epoch 35/50\n",
      "253/253 [==============================] - 2s 9ms/step - loss: 0.1450 - accuracy: 0.9466 - val_loss: 0.1459 - val_accuracy: 0.9458\n",
      "Epoch 36/50\n",
      "253/253 [==============================] - 2s 9ms/step - loss: 0.1413 - accuracy: 0.9486 - val_loss: 0.1414 - val_accuracy: 0.9470\n",
      "Epoch 37/50\n",
      "253/253 [==============================] - 2s 9ms/step - loss: 0.1393 - accuracy: 0.9489 - val_loss: 0.1428 - val_accuracy: 0.9479\n",
      "Epoch 38/50\n",
      "253/253 [==============================] - 2s 8ms/step - loss: 0.1370 - accuracy: 0.9501 - val_loss: 0.1421 - val_accuracy: 0.9479\n",
      "Epoch 39/50\n",
      "253/253 [==============================] - 2s 8ms/step - loss: 0.1345 - accuracy: 0.9511 - val_loss: 0.1394 - val_accuracy: 0.9477\n",
      "Epoch 40/50\n",
      "253/253 [==============================] - 2s 8ms/step - loss: 0.1326 - accuracy: 0.9514 - val_loss: 0.1363 - val_accuracy: 0.9501\n",
      "Epoch 41/50\n",
      "253/253 [==============================] - 2s 8ms/step - loss: 0.1307 - accuracy: 0.9524 - val_loss: 0.1357 - val_accuracy: 0.9496\n",
      "Epoch 42/50\n",
      "253/253 [==============================] - 2s 8ms/step - loss: 0.1282 - accuracy: 0.9530 - val_loss: 0.1356 - val_accuracy: 0.9498\n",
      "Epoch 43/50\n",
      "253/253 [==============================] - 2s 8ms/step - loss: 0.1289 - accuracy: 0.9521 - val_loss: 0.1292 - val_accuracy: 0.9515\n",
      "Epoch 44/50\n",
      "253/253 [==============================] - 2s 8ms/step - loss: 0.1243 - accuracy: 0.9543 - val_loss: 0.1268 - val_accuracy: 0.9533\n",
      "Epoch 45/50\n",
      "253/253 [==============================] - 2s 8ms/step - loss: 0.1224 - accuracy: 0.9551 - val_loss: 0.1236 - val_accuracy: 0.9542\n",
      "Epoch 46/50\n",
      "253/253 [==============================] - 2s 8ms/step - loss: 0.1207 - accuracy: 0.9556 - val_loss: 0.1238 - val_accuracy: 0.9536\n",
      "Epoch 47/50\n",
      "253/253 [==============================] - 2s 8ms/step - loss: 0.1193 - accuracy: 0.9564 - val_loss: 0.1230 - val_accuracy: 0.9546\n",
      "Epoch 48/50\n",
      "253/253 [==============================] - 2s 8ms/step - loss: 0.1170 - accuracy: 0.9577 - val_loss: 0.1329 - val_accuracy: 0.9495\n",
      "Epoch 49/50\n",
      "253/253 [==============================] - 2s 8ms/step - loss: 0.1161 - accuracy: 0.9579 - val_loss: 0.1157 - val_accuracy: 0.9580\n",
      "Epoch 50/50\n",
      "253/253 [==============================] - 2s 8ms/step - loss: 0.1145 - accuracy: 0.9586 - val_loss: 0.1171 - val_accuracy: 0.9564\n"
     ]
    }
   ],
   "source": [
    "history = model.fit(X_train,y_train, validation_data = (X_test,y_test), epochs = 50, batch_size = 1024, verbose =1)"
   ]
  },
  {
   "cell_type": "code",
   "execution_count": 27,
   "id": "5fba454c",
   "metadata": {},
   "outputs": [
    {
     "data": {
      "text/plain": [
       "<AxesSubplot:>"
      ]
     },
     "execution_count": 27,
     "metadata": {},
     "output_type": "execute_result"
    },
    {
     "data": {
      "image/png": "[encoded data removed]",
      "text/plain": [
       "<Figure size 1000x700 with 1 Axes>"
      ]
     },
     "metadata": {},
     "output_type": "display_data"
    }
   ],
   "source": [
    "pd.DataFrame(history.history).plot(figsize=(10,7))"
   ]
  },
  {
   "cell_type": "markdown",
   "id": "3490dfa7",
   "metadata": {},
   "source": [
    "# Testing on testset"
   ]
  },
  {
   "cell_type": "code",
   "execution_count": 28,
   "id": "bb197807",
   "metadata": {},
   "outputs": [],
   "source": [
    "df_test = pd.read_csv('test.csv')"
   ]
  },
  {
   "cell_type": "code",
   "execution_count": 29,
   "id": "7a64cc12",
   "metadata": {},
   "outputs": [
    {
     "data": {
      "text/html": [
       "<div>\n",
       "<style scoped>\n",
       "    .dataframe tbody tr th:only-of-type {\n",
       "        vertical-align: middle;\n",
       "    }\n",
       "\n",
       "    .dataframe tbody tr th {\n",
       "        vertical-align: top;\n",
       "    }\n",
       "\n",
       "    .dataframe thead th {\n",
       "        text-align: right;\n",
       "    }\n",
       "</style>\n",
       "<table border=\"1\" class=\"dataframe\">\n",
       "  <thead>\n",
       "    <tr style=\"text-align: right;\">\n",
       "      <th></th>\n",
       "      <th>MEAN_RR</th>\n",
       "      <th>RMSSD</th>\n",
       "      <th>pNN25</th>\n",
       "      <th>pNN50</th>\n",
       "      <th>LF</th>\n",
       "      <th>HF</th>\n",
       "      <th>LF_HF</th>\n",
       "    </tr>\n",
       "  </thead>\n",
       "  <tbody>\n",
       "    <tr>\n",
       "      <th>0</th>\n",
       "      <td>-1.001159</td>\n",
       "      <td>-0.634891</td>\n",
       "      <td>-0.598837</td>\n",
       "      <td>-0.874583</td>\n",
       "      <td>-0.575814</td>\n",
       "      <td>0.602911</td>\n",
       "      <td>-0.295775</td>\n",
       "    </tr>\n",
       "    <tr>\n",
       "      <th>1</th>\n",
       "      <td>-0.024971</td>\n",
       "      <td>1.048686</td>\n",
       "      <td>1.361573</td>\n",
       "      <td>-0.672601</td>\n",
       "      <td>1.080403</td>\n",
       "      <td>-0.280746</td>\n",
       "      <td>-0.157544</td>\n",
       "    </tr>\n",
       "    <tr>\n",
       "      <th>2</th>\n",
       "      <td>0.897836</td>\n",
       "      <td>1.544671</td>\n",
       "      <td>1.743894</td>\n",
       "      <td>0.943254</td>\n",
       "      <td>1.965161</td>\n",
       "      <td>-0.511482</td>\n",
       "      <td>0.037412</td>\n",
       "    </tr>\n",
       "    <tr>\n",
       "      <th>3</th>\n",
       "      <td>-0.175046</td>\n",
       "      <td>-0.777935</td>\n",
       "      <td>-0.623241</td>\n",
       "      <td>-0.335965</td>\n",
       "      <td>-0.767443</td>\n",
       "      <td>-0.477196</td>\n",
       "      <td>-0.241658</td>\n",
       "    </tr>\n",
       "    <tr>\n",
       "      <th>4</th>\n",
       "      <td>-0.721825</td>\n",
       "      <td>-0.393071</td>\n",
       "      <td>-0.476820</td>\n",
       "      <td>-0.201310</td>\n",
       "      <td>-0.735541</td>\n",
       "      <td>-0.089133</td>\n",
       "      <td>-0.280126</td>\n",
       "    </tr>\n",
       "  </tbody>\n",
       "</table>\n",
       "</div>"
      ],
      "text/plain": [
       "    MEAN_RR     RMSSD     pNN25     pNN50        LF        HF     LF_HF\n",
       "0 -1.001159 -0.634891 -0.598837 -0.874583 -0.575814  0.602911 -0.295775\n",
       "1 -0.024971  1.048686  1.361573 -0.672601  1.080403 -0.280746 -0.157544\n",
       "2  0.897836  1.544671  1.743894  0.943254  1.965161 -0.511482  0.037412\n",
       "3 -0.175046 -0.777935 -0.623241 -0.335965 -0.767443 -0.477196 -0.241658\n",
       "4 -0.721825 -0.393071 -0.476820 -0.201310 -0.735541 -0.089133 -0.280126"
      ]
     },
     "execution_count": 29,
     "metadata": {},
     "output_type": "execute_result"
    }
   ],
   "source": [
    "df_test[features] = scaler.transform(df_test[features])\n",
    "df_test[features].head()"
   ]
  },
  {
   "cell_type": "code",
   "execution_count": 30,
   "id": "a2d737e0",
   "metadata": {},
   "outputs": [],
   "source": [
    "X = df_test[features].values\n",
    "y = df_test[label].values"
   ]
  },
  {
   "cell_type": "code",
   "execution_count": 31,
   "id": "5527f007",
   "metadata": {},
   "outputs": [],
   "source": [
    "y = k.utils.to_categorical(y)"
   ]
  },
  {
   "cell_type": "code",
   "execution_count": 32,
   "id": "51a2c0ec",
   "metadata": {},
   "outputs": [
    {
     "name": "stdout",
     "output_type": "stream",
     "text": [
      "1283/1283 [==============================] - 7s 5ms/step - loss: 0.1121 - accuracy: 0.9573\n"
     ]
    }
   ],
   "source": [
    "loss,acc = model.evaluate(X,y,verbose=1)"
   ]
  },
  {
   "cell_type": "markdown",
   "id": "46c89a5c",
   "metadata": {},
   "source": [
    "# Final Pipeline for prediction"
   ]
  },
  {
   "cell_type": "code",
   "execution_count": 33,
   "id": "ee2bde54",
   "metadata": {},
   "outputs": [],
   "source": [
    "data = pd.read_csv('test.csv')"
   ]
  },
  {
   "cell_type": "code",
   "execution_count": 38,
   "id": "16798095",
   "metadata": {},
   "outputs": [
    {
     "name": "stdout",
     "output_type": "stream",
     "text": [
      "[[-0.7699341   0.25391942  0.11699709  0.60661783  0.54497884  0.50787441\n",
      "  -0.26537627]]\n"
     ]
    },
    {
     "name": "stderr",
     "output_type": "stream",
     "text": [
      "/opt/homebrew/Caskroom/miniforge/base/envs/tensorflow/lib/python3.9/site-packages/sklearn/base.py:450: UserWarning: X does not have valid feature names, but StandardScaler was fitted with feature names\n",
      "  warnings.warn(\n"
     ]
    }
   ],
   "source": [
    "t = scaler.transform(data[features].iloc[5545].values.reshape(1,-1))\n",
    "print(t)"
   ]
  },
  {
   "cell_type": "code",
   "execution_count": 39,
   "id": "e31e2060",
   "metadata": {},
   "outputs": [],
   "source": [
    "y_pred = model.predict(t)"
   ]
  },
  {
   "cell_type": "code",
   "execution_count": 40,
   "id": "0394efb9",
   "metadata": {},
   "outputs": [
    {
     "name": "stdout",
     "output_type": "stream",
     "text": [
      "0\n",
      "condition    0\n",
      "Name: 5545, dtype: int64\n"
     ]
    }
   ],
   "source": [
    "print(np.argmax(y_pred[0]))\n",
    "print(data[label].iloc[5545])"
   ]
  },
  {
   "cell_type": "markdown",
   "id": "6284c639",
   "metadata": {},
   "source": [
    "# Saving models"
   ]
  },
  {
   "cell_type": "code",
   "execution_count": 42,
   "id": "bc4b3f16",
   "metadata": {},
   "outputs": [],
   "source": [
    "import joblib\n",
    "\n",
    "joblib.dump(scaler,'scaler.joblib',compress=9)\n",
    "model.save('tfmodel.h5')"
   ]
  },
  {
   "cell_type": "code",
   "execution_count": 43,
   "id": "5d5ce598",
   "metadata": {},
   "outputs": [],
   "source": [
    "df = pd.read_csv('train.csv')"
   ]
  }
 ],
 "metadata": {
  "kernelspec": {
   "display_name": "Python 3.9 (tensorflow)",
   "language": "python",
   "name": "tensorflow"
  },
  "language_info": {
   "codemirror_mode": {
    "name": "ipython",
    "version": 3
   },
   "file_extension": ".py",
   "mimetype": "text/x-python",
   "name": "python",
   "nbconvert_exporter": "python",
   "pygments_lexer": "ipython3",
   "version": "3.9.13"
  }
 },
 "nbformat": 4,
 "nbformat_minor": 5
}
